{
 "cells": [
  {
   "cell_type": "markdown",
   "metadata": {},
   "source": [
    "# Tensor Basics"
   ]
  },
  {
   "cell_type": "code",
   "execution_count": 8,
   "metadata": {},
   "outputs": [
    {
     "name": "stdout",
     "output_type": "stream",
     "text": [
      "tensor([[2.1893e-17, 3.0798e-41, 9.2892e-19],\n",
      "        [3.0798e-41, 8.9683e-44, 0.0000e+00]])\n",
      "tensor([[0.7400, 0.3028, 0.1924],\n",
      "        [0.5323, 0.9281, 0.3766]])\n",
      "tensor([[1., 1., 1.],\n",
      "        [1., 1., 1.]], dtype=torch.float16)\n",
      "torch.Size([2, 3])\n",
      "tensor([2.5000, 0.1000])\n"
     ]
    }
   ],
   "source": [
    "import torch\n",
    "\n",
    "# empty is uninitialized data\n",
    "x = torch.empty(2, 3)\n",
    "print(x)\n",
    "\n",
    "# random tensor\n",
    "y = torch.rand(2,3)\n",
    "print(y)\n",
    "\n",
    "# spedify datatype\n",
    "z = torch.ones(2,3, dtype=torch.float16)\n",
    "print(z)\n",
    "print(z.size())\n",
    "\n",
    "# constructing a tensor from data\n",
    "# e.g: python list\n",
    "k = torch.tensor([2.5, 0.1])\n",
    "print(k)"
   ]
  },
  {
   "cell_type": "code",
   "execution_count": 15,
   "metadata": {},
   "outputs": [
    {
     "name": "stdout",
     "output_type": "stream",
     "text": [
      "tensor([[0.1445, 0.7154],\n",
      "        [0.8088, 0.6621]])\n",
      "tensor([[0.7645, 0.7664],\n",
      "        [0.8327, 0.1506]])\n",
      "sum of x and y\n",
      "tensor([[0.9090, 1.4817],\n",
      "        [1.6415, 0.8127]])\n",
      "tensor([[0.9090, 1.4817],\n",
      "        [1.6415, 0.8127]])\n",
      "tensor([[0.9090, 1.4817],\n",
      "        [1.6415, 0.8127]])\n"
     ]
    }
   ],
   "source": [
    "x = torch.rand(2,2)\n",
    "y = torch.rand(2,2)\n",
    "print(x)\n",
    "print(y)\n",
    "z = x + y\n",
    "print(\"sum of x and y\")\n",
    "print(z)\n",
    "\n",
    "# add function would not modify the host tensor, but the add_ function does\n",
    "print(y.add_(x))\n",
    "print(y)"
   ]
  },
  {
   "cell_type": "code",
   "execution_count": 17,
   "metadata": {},
   "outputs": [
    {
     "name": "stdout",
     "output_type": "stream",
     "text": [
      "tensor([[0.7259, 0.5034],\n",
      "        [0.1668, 0.3339]])\n",
      "tensor([[0.8962, 0.1619],\n",
      "        [0.0563, 0.6240]])\n",
      "tensor([[-0.1703,  0.3415],\n",
      "        [ 0.1105, -0.2901]])\n"
     ]
    }
   ],
   "source": [
    "x = torch.rand(2,2)\n",
    "y = torch.rand(2,2)\n",
    "print(x)\n",
    "print(y)\n",
    "z = x - y\n",
    "print (x.sub(y))\n",
    "# similarly, operations as mul and div can be "
   ]
  },
  {
   "cell_type": "code",
   "execution_count": 20,
   "metadata": {},
   "outputs": [
    {
     "name": "stdout",
     "output_type": "stream",
     "text": [
      "tensor([[0.6058, 0.7305, 0.6586],\n",
      "        [0.2745, 0.6927, 0.2562],\n",
      "        [0.8198, 0.9753, 0.3856],\n",
      "        [0.0570, 0.5409, 0.8849],\n",
      "        [0.8872, 0.1441, 0.3155]])\n",
      "tensor([0.2745, 0.6927, 0.2562])\n",
      "0.6926777362823486\n"
     ]
    }
   ],
   "source": [
    "# slicing\n",
    "x = torch.rand(5,3)\n",
    "print(x)\n",
    "print(x[1, :]) # second row and all the columns\n",
    "print(x[1,1].item()) # get the actual values of 1 element tensor"
   ]
  },
  {
   "cell_type": "code",
   "execution_count": 28,
   "metadata": {},
   "outputs": [
    {
     "name": "stdout",
     "output_type": "stream",
     "text": [
      "tensor([[0.6026, 0.1593, 0.9396, 0.9505],\n",
      "        [0.5936, 0.7875, 0.4413, 0.0549],\n",
      "        [0.6471, 0.1494, 0.5090, 0.1259],\n",
      "        [0.5621, 0.4189, 0.7308, 0.5133]])\n",
      "tensor([0.6026, 0.1593, 0.9396, 0.9505, 0.5936, 0.7875, 0.4413, 0.0549, 0.6471,\n",
      "        0.1494, 0.5090, 0.1259, 0.5621, 0.4189, 0.7308, 0.5133])\n",
      "tensor([[0.6026, 0.1593, 0.9396, 0.9505, 0.5936, 0.7875, 0.4413, 0.0549],\n",
      "        [0.6471, 0.1494, 0.5090, 0.1259, 0.5621, 0.4189, 0.7308, 0.5133]])\n",
      "torch.Size([2, 8])\n"
     ]
    }
   ],
   "source": [
    "# reshaping tensor\n",
    "\n",
    "x = torch.rand(4,4)\n",
    "print(x)\n",
    "y = x.view(16) # reshaping x from 4x4 matrix to 1D vector of 16 elements\n",
    "print(y)\n",
    "z = x.view(-1, 8) # put -1 if need to determine the dimension automatically. \n",
    "print(z)\n",
    "print(z.size())"
   ]
  },
  {
   "cell_type": "code",
   "execution_count": 40,
   "metadata": {},
   "outputs": [
    {
     "name": "stdout",
     "output_type": "stream",
     "text": [
      "tensor([[1., 1., 1., 1., 1.],\n",
      "        [1., 1., 1., 1., 1.]])\n",
      "[[1. 1. 1. 1. 1.]\n",
      " [1. 1. 1. 1. 1.]]\n",
      "<class 'numpy.ndarray'>\n"
     ]
    }
   ],
   "source": [
    "import numpy as np\n",
    "\n",
    "# convert a tensor to a np array\n",
    "a = torch.ones(2,5)\n",
    "print(a)\n",
    "b = a.numpy()\n",
    "print(b)\n",
    "print(type(b))\n",
    "#Caution: if the tensor is in CPU, the both object will share the same memory, \n",
    "# so changing one object will affect the other "
   ]
  },
  {
   "cell_type": "code",
   "execution_count": 45,
   "metadata": {},
   "outputs": [
    {
     "name": "stdout",
     "output_type": "stream",
     "text": [
      "no cuda\n"
     ]
    }
   ],
   "source": [
    "import torch\n",
    "import numpy as np\n",
    "\n",
    "if torch.cuda.is_available(): # if there is a cuda device on the machine\n",
    "    device = torch.device(\"cuda\")\n",
    "    print(torch.cuda.get_device_name()) # name of the GPU device\n",
    "    x = torch.ones(5, device=device) # create a tensor on GPU\n",
    "    y = torch.ones(5) # creates y on CPU\n",
    "    y = y.to(device) # move Y to GPU\n",
    "    z = x + y # compute Z on GPU\n",
    "    print(z)\n",
    "    #z.numpy() # this will return error cuz only tensors on CPU can be converted to numpy array\n",
    "    z = z.to(\"cpu\") # move z to CPU first\n",
    "    print(z.numpy())\n",
    "else: print(\"no cuda\")"
   ]
  },
  {
   "cell_type": "code",
   "execution_count": 42,
   "metadata": {},
   "outputs": [
    {
     "name": "stdout",
     "output_type": "stream",
     "text": [
      "tensor([1., 1., 1., 1., 1.], requires_grad=True)\n"
     ]
    }
   ],
   "source": [
    "x = torch.ones(5, requires_grad=True) # ask PyTorch to calculate the gradient later (optimized)\n",
    "print(x)"
   ]
  },
  {
   "cell_type": "markdown",
   "metadata": {},
   "source": [
    "# autoGradient\n",
    "Pytorch can store and track the function and automatically calculate the gradient for backpropagation if "
   ]
  },
  {
   "cell_type": "code",
   "execution_count": 47,
   "metadata": {},
   "outputs": [
    {
     "name": "stdout",
     "output_type": "stream",
     "text": [
      "tensor([-0.0157, -0.5796, -0.7077], requires_grad=True)\n",
      "tensor([1.9843, 1.4204, 1.2923], grad_fn=<AddBackward0>)\n",
      "tensor(5.0835, grad_fn=<MeanBackward0>)\n",
      "tensor([2.6458, 1.8939, 1.7231])\n"
     ]
    }
   ],
   "source": [
    "import torch\n",
    "x = torch.randn(3, requires_grad=True)\n",
    "print(x)\n",
    "\n",
    "y = x + 2 # created a forward node (addition), \n",
    "#and a function is stored to calculate the gradient of y for backpropagation\n",
    "print (y)\n",
    "\n",
    "z = y*y*2\n",
    "z = z.mean()\n",
    "print(z)\n",
    "\n",
    "# calculate the gradient, or the jacobian matrix of z in respect to x\n",
    "z.backward() # dz/dx = J*x\n",
    "print(x.grad)"
   ]
  },
  {
   "cell_type": "code",
   "execution_count": 49,
   "metadata": {},
   "outputs": [
    {
     "name": "stdout",
     "output_type": "stream",
     "text": [
      "tensor([-0.4329, -0.0458, -1.5283], requires_grad=True)\n",
      "tensor([1.5671, 1.9542, 0.4717], grad_fn=<AddBackward0>)\n",
      "tensor([4.9116, 7.6381, 0.4450], grad_fn=<MulBackward0>)\n",
      "tensor([6.2684e-01, 7.8169e+00, 1.8867e-03])\n"
     ]
    }
   ],
   "source": [
    "#MAke sure that you are mindful about the dimensions matrix multiplication\n",
    "# any matrix: n_rows x n_cols\n",
    "# vector: n_rows x 1\n",
    "# matrix multiplication: (n_rows1 x n_cols2) x (n_rows2 x n_col2) = (n_rows1 x n_col2)\n",
    "# in this example: (3x3)(3x1) = (3x1)\n",
    "\n",
    "x = torch.randn(3, requires_grad=True)\n",
    "print(x)\n",
    "\n",
    "y = x + 2 # created a forward node (addition), \n",
    "#and a function is stored to calculate the gradient of y for backpropagation\n",
    "print (y)\n",
    "\n",
    "z = y*y*2\n",
    "#z = z.mean()\n",
    "print(z)\n",
    "\n",
    "v = torch.tensor([0.1, 1.0, 0.001], dtype=torch.float32)\n",
    "# calculate the gradient, or the jacobian matrix of z in respect to x\n",
    "z.backward(v) # dz/dx = J*v\n",
    "print(x.grad)"
   ]
  },
  {
   "cell_type": "code",
   "execution_count": null,
   "metadata": {},
   "outputs": [],
   "source": []
  }
 ],
 "metadata": {
  "kernelspec": {
   "display_name": "Python 3",
   "language": "python",
   "name": "python3"
  },
  "language_info": {
   "codemirror_mode": {
    "name": "ipython",
    "version": 3
   },
   "file_extension": ".py",
   "mimetype": "text/x-python",
   "name": "python",
   "nbconvert_exporter": "python",
   "pygments_lexer": "ipython3",
   "version": "3.7.5"
  }
 },
 "nbformat": 4,
 "nbformat_minor": 4
}
