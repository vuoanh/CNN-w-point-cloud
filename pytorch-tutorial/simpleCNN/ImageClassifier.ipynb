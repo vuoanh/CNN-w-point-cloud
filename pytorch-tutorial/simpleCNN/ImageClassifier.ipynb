{
 "cells": [
  {
   "cell_type": "markdown",
   "metadata": {},
   "source": [
    "# Training an image classifier\n",
    "Packages for different kind of data:\n",
    "- for images: Pillow, OpenCV\n",
    "- Auios: scipy, librosa\n",
    "- text: Cython, NLTK, SpaCy\n",
    "\n",
    "`torchvision.datasets` and `torch.utils.data.DataLoader` are useful for vision\n",
    "\n",
    "dataset for this tutorial: CIFAR10\n",
    "\n",
    "10 classes: airplanes. automobile, bird, cat, deer, dog, frog, horse, ship, truck\n",
    "images: 3*32*32\n",
    "\n",
    "# Table of contents:\n",
    "[1. Load and normalize the dataset](#1.-Load-and-normalize-the-dataset-using-torch.vision)\n",
    "\n",
    "[2. Build a CNN](#2.-Build-a-CNN)\n",
    "\n",
    "[3. Define a loss function and optimizer](#3.-Define-a-loss-function-and-optimizer)\n",
    "\n",
    "[4. Training the CNN](#4.Training-the-network)"
   ]
  },
  {
   "cell_type": "markdown",
   "metadata": {},
   "source": [
    "## 1. Load and normalize the dataset using `torch.vision`"
   ]
  },
  {
   "cell_type": "code",
   "execution_count": 1,
   "metadata": {},
   "outputs": [],
   "source": [
    "# import library\n",
    "import torch\n",
    "import torchvision\n",
    "import torchvision.transforms as transforms"
   ]
  },
  {
   "cell_type": "markdown",
   "metadata": {},
   "source": [
    "Convert the image to tensor of normalized range[-1, 1]"
   ]
  },
  {
   "cell_type": "code",
   "execution_count": 2,
   "metadata": {},
   "outputs": [
    {
     "name": "stdout",
     "output_type": "stream",
     "text": [
      "Files already downloaded and verified\n",
      "Files already downloaded and verified\n"
     ]
    }
   ],
   "source": [
    "# Normalize using 3 means and stds for 3 channels?\n",
    "transform = transforms.Compose([transforms.ToTensor(),\n",
    "                          transforms.Normalize((0.5, 0.5 ,0.5), (0.5, 0.5, 0.5))])\n",
    "\n",
    "# Load and transform the data\n",
    "trainset = torchvision.datasets.CIFAR10(root='./data', train=True, \n",
    "                                       download=True, transform=transform)\n",
    "trainloader = torch.utils.data.DataLoader(trainset, batch_size=4,\n",
    "                                         shuffle=True, num_workers=4)\n",
    "\n",
    "testset = torchvision.datasets.CIFAR10(root='./data', train=False, \n",
    "                                       download=True, transform=transform)\n",
    "testloader = torch.utils.data.DataLoader(testset, batch_size=4,\n",
    "                                         shuffle=False, num_workers=4)"
   ]
  },
  {
   "cell_type": "code",
   "execution_count": 3,
   "metadata": {},
   "outputs": [
    {
     "name": "stdout",
     "output_type": "stream",
     "text": [
      "(50000, 32, 32, 3)\n",
      "(10000, 32, 32, 3)\n"
     ]
    }
   ],
   "source": [
    "print(trainset.data.shape)\n",
    "print(testset.data.shape)"
   ]
  },
  {
   "cell_type": "markdown",
   "metadata": {},
   "source": [
    "Examine some images..."
   ]
  },
  {
   "cell_type": "code",
   "execution_count": 4,
   "metadata": {},
   "outputs": [
    {
     "data": {
      "image/png": "[encoded data removed]",
      "text/plain": [
       "<Figure size 432x288 with 1 Axes>"
      ]
     },
     "metadata": {
      "needs_background": "light"
     },
     "output_type": "display_data"
    },
    {
     "name": "stdout",
     "output_type": "stream",
     "text": [
      "plane  ship  bird   cat\n"
     ]
    }
   ],
   "source": [
    "import matplotlib.pyplot as plt\n",
    "import numpy as np\n",
    "%matplotlib inline\n",
    "classes = ('plane', 'car', 'bird', 'cat',\n",
    "           'deer', 'dog', 'frog', 'horse', 'ship', 'truck')\n",
    "\n",
    "#Function to show an image\n",
    "def imshow(img):\n",
    "    img = img / 2 + .5 # unnormalize\n",
    "    npimg = img.numpy()\n",
    "    plt.imshow(np.transpose(npimg, (1, 2, 0)))\n",
    "    plt.show()\n",
    "    \n",
    "# Get some random training images\n",
    "dataiter = iter(trainloader)\n",
    "images, labels = dataiter.next()\n",
    "\n",
    "# show images\n",
    "imshow(torchvision.utils.make_grid(images))\n",
    "#print labels\n",
    "print(' '.join('%5s' % classes[labels[j]] for j in range(4)))"
   ]
  },
  {
   "cell_type": "markdown",
   "metadata": {},
   "source": [
    "## 2. Build a CNN"
   ]
  },
  {
   "cell_type": "code",
   "execution_count": 5,
   "metadata": {},
   "outputs": [],
   "source": [
    "import torch.nn as nn\n",
    "import torch.nn.functional as F\n",
    "\n",
    "\n",
    "class Net(nn.Module):\n",
    "    def __init__(self):\n",
    "        super(Net, self).__init__()\n",
    "        self.conv1 = nn.Conv2d(3, 6, 5) # 3 channels, 6 output channels, 5x5 filters\n",
    "        self.pool = nn.MaxPool2d(2, 2)\n",
    "        self.conv2 = nn.Conv2d(6, 16, 5)\n",
    "        self.fc1 = nn.Linear(16 * 5 * 5, 120)\n",
    "        self.fc2 = nn.Linear(120, 84)\n",
    "        self.fc3 = nn.Linear(84, 10)\n",
    "\n",
    "    def forward(self, x):\n",
    "        x = self.pool(F.relu(self.conv1(x)))\n",
    "        x = self.pool(F.relu(self.conv2(x)))\n",
    "        x = x.view(-1, 16 * 5 * 5)\n",
    "        x = F.relu(self.fc1(x))\n",
    "        x = F.relu(self.fc2(x))\n",
    "        x = self.fc3(x)\n",
    "        return x\n",
    "\n",
    "\n",
    "net = Net()"
   ]
  },
  {
   "cell_type": "markdown",
   "metadata": {},
   "source": [
    "## 3. Define a loss function and optimizer"
   ]
  },
  {
   "cell_type": "code",
   "execution_count": 6,
   "metadata": {},
   "outputs": [],
   "source": [
    "import torch.optim as optim\n",
    "criterion = nn.CrossEntropyLoss()\n",
    "optimizer = optim.SGD(net.parameters(), lr=0.001, momentum=0.9)"
   ]
  },
  {
   "cell_type": "markdown",
   "metadata": {},
   "source": [
    "Cross-entropy loss, or log loss, measures the performance of a classification model whose output is a probability value between 0 and 1. Cross-entropy loss increases as the predicted probability diverges from the actual label. So predicting a probability of .012 when the actual observation label is 1 would be bad and result in a high loss value. A perfect model would have a log loss of 0.\n",
    "\n",
    "More detail in this [link](https://ml-cheatsheet.readthedocs.io/en/latest/loss_functions.html#cross-entropy)"
   ]
  },
  {
   "cell_type": "markdown",
   "metadata": {},
   "source": [
    "## 4.Training the network\n",
    "loops over the data iterator, and feed the inputrs to the network and optimizer"
   ]
  },
  {
   "cell_type": "code",
   "execution_count": 7,
   "metadata": {},
   "outputs": [
    {
     "name": "stdout",
     "output_type": "stream",
     "text": [
      "[1,  2000] loss:  2.214806\n",
      "[1,  4000] loss:  1.863183\n",
      "[1,  6000] loss:  1.647357\n",
      "[1,  8000] loss:  1.583365\n",
      "[1, 10000] loss:  1.530504\n",
      "[1, 12000] loss:  1.458657\n",
      "[2,  2000] loss:  1.384219\n",
      "[2,  4000] loss:  1.366682\n",
      "[2,  6000] loss:  1.334222\n",
      "[2,  8000] loss:  1.305635\n",
      "[2, 10000] loss:  1.285185\n",
      "[2, 12000] loss:  1.256193\n",
      "Finished Training\n"
     ]
    }
   ],
   "source": [
    "#%%timeit\n",
    "for epoch in range(2):\n",
    "    \n",
    "    running_loss = 0.0\n",
    "    for i, data in enumerate(trainloader, 0):\n",
    "        # get the inputs, data is a list of [inputs, labels]\n",
    "        inputs, labels = data\n",
    "        \n",
    "        # zero the parameters gradients\n",
    "        optimizer.zero_grad()\n",
    "        \n",
    "        # forward + backward + optimize\n",
    "        outputs = net(inputs)\n",
    "        loss = criterion(outputs, labels)\n",
    "        loss.backward()\n",
    "        optimizer.step()\n",
    "        \n",
    "        # print statistics\n",
    "        running_loss += loss.item()\n",
    "        if i % 2000 == 1999: # print every 2000 mini-batches\n",
    "            print('[%d, %5d] loss: % 3f' %\n",
    "                 (epoch + 1, i+1, running_loss / 2000))\n",
    "            running_loss = 0.0\n",
    "            \n",
    "print('Finished Training')\n",
    "        "
   ]
  },
  {
   "cell_type": "code",
   "execution_count": 8,
   "metadata": {},
   "outputs": [],
   "source": [
    "# Save the training model's parameters\n",
    "PATH = './cifar_net.pth'\n",
    "torch.save(net.state_dict(), PATH)"
   ]
  },
  {
   "cell_type": "markdown",
   "metadata": {},
   "source": [
    "## 5.Test the network on the test data\n",
    "After training the network through 2 passes, we want to test wheter the network has learn anything at all.\n",
    "\n",
    "First, display an image from the test set "
   ]
  },
  {
   "cell_type": "code",
   "execution_count": 9,
   "metadata": {},
   "outputs": [
    {
     "data": {
      "image/png": "[encoded data removed]",
      "text/plain": [
       "<Figure size 432x288 with 1 Axes>"
      ]
     },
     "metadata": {
      "needs_background": "light"
     },
     "output_type": "display_data"
    },
    {
     "name": "stdout",
     "output_type": "stream",
     "text": [
      "GroundTruth:    cat  ship  ship plane\n"
     ]
    }
   ],
   "source": [
    "dataiter = iter(testloader)\n",
    "images, labels = dataiter.next()\n",
    "\n",
    "# print images\n",
    "imshow(torchvision.utils.make_grid(images))\n",
    "print('GroundTruth: ', ' '.join('%5s' % classes[labels[j]] for j in range(4)))"
   ]
  },
  {
   "cell_type": "code",
   "execution_count": 10,
   "metadata": {},
   "outputs": [],
   "source": [
    "# Load the saved model\n",
    "net = Net()\n",
    "net.load_state_dict(torch.load(PATH))\n",
    "\n",
    "# check the output of the first 4 images\n",
    "outputs = net(images)"
   ]
  },
  {
   "cell_type": "code",
   "execution_count": 11,
   "metadata": {},
   "outputs": [
    {
     "name": "stdout",
     "output_type": "stream",
     "text": [
      "Predicted:    cat  ship   car  ship\n"
     ]
    }
   ],
   "source": [
    "# print out the labels of the best predicted classes for the images\n",
    "_, predicted = torch.max(outputs, 1)\n",
    "print('Predicted: ', ' '.join('%5s' % classes[predicted[j]]\n",
    "                             for j in range(4)))"
   ]
  },
  {
   "cell_type": "code",
   "execution_count": 12,
   "metadata": {},
   "outputs": [
    {
     "name": "stdout",
     "output_type": "stream",
     "text": [
      "Accuracy of the network on the 10000 test images: 56 %\n"
     ]
    }
   ],
   "source": [
    "# how the CNN performs on the whole dataset\n",
    "correct = 0\n",
    "total =0\n",
    "with torch.no_grad():\n",
    "    for data in testloader:\n",
    "        images, labels = data\n",
    "        outputs = net(images)\n",
    "        _, predicted = torch.max(outputs, 1)\n",
    "        total += labels.size(0)\n",
    "        correct += (predicted == labels).sum().item()\n",
    "        \n",
    "print('Accuracy of the network on the 10000 test images: %d %%' % (100 * correct / total))"
   ]
  },
  {
   "cell_type": "code",
   "execution_count": 13,
   "metadata": {},
   "outputs": [
    {
     "name": "stdout",
     "output_type": "stream",
     "text": [
      "Accuracy of plane : 55 %\n",
      "Accuracy of   car : 68 %\n",
      "Accuracy of  bird : 41 %\n",
      "Accuracy of   cat : 28 %\n",
      "Accuracy of  deer : 41 %\n",
      "Accuracy of   dog : 42 %\n",
      "Accuracy of  frog : 75 %\n",
      "Accuracy of horse : 69 %\n",
      "Accuracy of  ship : 69 %\n",
      "Accuracy of truck : 68 %\n"
     ]
    }
   ],
   "source": [
    "class_correct = list(0. for i in range(10))\n",
    "class_total = list(0. for i in range(10))\n",
    "with torch.no_grad():\n",
    "    for data in testloader:\n",
    "        images, labels = data\n",
    "        outputs = net(images)\n",
    "        _, predicted = torch.max(outputs, 1)\n",
    "        c = (predicted == labels).squeeze()\n",
    "        for i in range(4):\n",
    "            label = labels[i]\n",
    "            class_correct[label] += c[i].item()\n",
    "            class_total[label] += 1\n",
    "\n",
    "\n",
    "for i in range(10):\n",
    "    print('Accuracy of %5s : %2d %%' % (\n",
    "        classes[i], 100 * class_correct[i] / class_total[i]))"
   ]
  },
  {
   "cell_type": "code",
   "execution_count": 14,
   "metadata": {},
   "outputs": [
    {
     "name": "stdout",
     "output_type": "stream",
     "text": [
      "cuda:0\n"
     ]
    }
   ],
   "source": [
    "device = torch.device(\"cuda:0\" if torch.cuda.is_available() else \"cpu\")\n",
    "\n",
    "# Assuming that we are on a CUDA machine, this should print a CUDA device:\n",
    "\n",
    "print(device)\n",
    "net = Net()\n",
    "criterion = nn.CrossEntropyLoss()\n",
    "optimizer = optim.SGD(net.parameters(), lr=0.001, momentum=0.9)"
   ]
  },
  {
   "cell_type": "code",
   "execution_count": 16,
   "metadata": {},
   "outputs": [
    {
     "name": "stdout",
     "output_type": "stream",
     "text": [
      "[1,  2000] loss:  1.216296\n",
      "[1,  4000] loss:  1.241702\n",
      "[1,  6000] loss:  1.232394\n",
      "[1,  8000] loss:  1.198861\n",
      "[1, 10000] loss:  1.200636\n",
      "[1, 12000] loss:  1.183828\n",
      "[2,  2000] loss:  1.116798\n",
      "[2,  4000] loss:  1.120502\n",
      "[2,  6000] loss:  1.145308\n",
      "[2,  8000] loss:  1.146059\n",
      "[2, 10000] loss:  1.121246\n",
      "[2, 12000] loss:  1.132666\n",
      "[3,  2000] loss:  1.028612\n",
      "[3,  4000] loss:  1.051745\n",
      "[3,  6000] loss:  1.052463\n",
      "[3,  8000] loss:  1.079568\n",
      "[3, 10000] loss:  1.068788\n",
      "[3, 12000] loss:  1.071314\n",
      "[4,  2000] loss:  0.970024\n",
      "[4,  4000] loss:  1.001499\n",
      "[4,  6000] loss:  1.001277\n",
      "[4,  8000] loss:  1.014132\n",
      "[4, 10000] loss:  1.012968\n",
      "[4, 12000] loss:  1.026531\n",
      "[5,  2000] loss:  0.931780\n",
      "[5,  4000] loss:  0.929057\n",
      "[5,  6000] loss:  0.957205\n",
      "[5,  8000] loss:  0.971094\n",
      "[5, 10000] loss:  0.980751\n",
      "[5, 12000] loss:  0.993742\n",
      "[6,  2000] loss:  0.892795\n",
      "[6,  4000] loss:  0.910830\n",
      "[6,  6000] loss:  0.922865\n",
      "[6,  8000] loss:  0.953779\n",
      "[6, 10000] loss:  0.936127\n",
      "[6, 12000] loss:  0.936186\n",
      "[7,  2000] loss:  0.846788\n",
      "[7,  4000] loss:  0.870526\n",
      "[7,  6000] loss:  0.877125\n",
      "[7,  8000] loss:  0.918711\n",
      "[7, 10000] loss:  0.918523\n",
      "[7, 12000] loss:  0.901535\n",
      "[8,  2000] loss:  0.792049\n",
      "[8,  4000] loss:  0.846509\n",
      "[8,  6000] loss:  0.861855\n",
      "[8,  8000] loss:  0.862226\n",
      "[8, 10000] loss:  0.898484\n",
      "[8, 12000] loss:  0.892188\n",
      "[9,  2000] loss:  0.783117\n",
      "[9,  4000] loss:  0.817545\n",
      "[9,  6000] loss:  0.841032\n",
      "[9,  8000] loss:  0.855966\n",
      "[9, 10000] loss:  0.864806\n",
      "[9, 12000] loss:  0.866234\n",
      "[10,  2000] loss:  0.730038\n",
      "[10,  4000] loss:  0.799625\n",
      "[10,  6000] loss:  0.801267\n",
      "[10,  8000] loss:  0.839999\n",
      "[10, 10000] loss:  0.846230\n",
      "[10, 12000] loss:  0.848999\n",
      "Finished Training\n"
     ]
    }
   ],
   "source": [
    "#%%timeit\n",
    "#torch.backends.cudnn.enabled = False\n",
    "net = net.to(device)\n",
    "for epoch in range(10):\n",
    "    \n",
    "    running_loss = 0.0\n",
    "    for i, data in enumerate(trainloader, 0):\n",
    "        # get the inputs, data is a list of [inputs, labels]\n",
    "        inputs, labels = data[0].to(device), data[1].to(device)\n",
    "        \n",
    "        # zero the parameters gradients\n",
    "        optimizer.zero_grad()\n",
    "        \n",
    "        # forward + backward + optimize\n",
    "        outputs = net(inputs)\n",
    "        loss = criterion(outputs, labels)\n",
    "        loss.backward()\n",
    "        optimizer.step()\n",
    "        \n",
    "        # print statistics\n",
    "        running_loss += loss.item()\n",
    "        if i % 2000 == 1999: # print every 2000 mini-batches\n",
    "            print('[%d, %5d] loss: % 3f' %\n",
    "                 (epoch + 1, i+1, running_loss / 2000))\n",
    "            running_loss = 0.0\n",
    "            \n",
    "print('Finished Training')"
   ]
  },
  {
   "cell_type": "code",
   "execution_count": null,
   "metadata": {},
   "outputs": [],
   "source": []
  }
 ],
 "metadata": {
  "kernelspec": {
   "display_name": "Python 3",
   "language": "python",
   "name": "python3"
  },
  "language_info": {
   "codemirror_mode": {
    "name": "ipython",
    "version": 3
   },
   "file_extension": ".py",
   "mimetype": "text/x-python",
   "name": "python",
   "nbconvert_exporter": "python",
   "pygments_lexer": "ipython3",
   "version": "3.5.6"
  }
 },
 "nbformat": 4,
 "nbformat_minor": 4
}
